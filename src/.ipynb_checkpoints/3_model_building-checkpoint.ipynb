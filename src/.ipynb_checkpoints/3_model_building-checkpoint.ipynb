{
 "cells": [
  {
   "cell_type": "markdown",
   "metadata": {},
   "source": [
    "## Importing Data"
   ]
  },
  {
   "cell_type": "code",
   "execution_count": 199,
   "metadata": {},
   "outputs": [],
   "source": [
    "import pandas as pd\n",
    "import matplotlib.pyplot as plt\n",
    "%matplotlib inline\n",
    "import numpy as np\n",
    "from sklearn import tree\n",
    "from sklearn import preprocessing"
   ]
  },
  {
   "cell_type": "code",
   "execution_count": 200,
   "metadata": {
    "scrolled": false
   },
   "outputs": [
    {
     "data": {
      "text/html": [
       "<div>\n",
       "<style scoped>\n",
       "    .dataframe tbody tr th:only-of-type {\n",
       "        vertical-align: middle;\n",
       "    }\n",
       "\n",
       "    .dataframe tbody tr th {\n",
       "        vertical-align: top;\n",
       "    }\n",
       "\n",
       "    .dataframe thead th {\n",
       "        text-align: right;\n",
       "    }\n",
       "</style>\n",
       "<table border=\"1\" class=\"dataframe\">\n",
       "  <thead>\n",
       "    <tr style=\"text-align: right;\">\n",
       "      <th></th>\n",
       "      <th>date</th>\n",
       "      <th>cause</th>\n",
       "      <th>source</th>\n",
       "      <th>location</th>\n",
       "      <th>substance</th>\n",
       "      <th>volume</th>\n",
       "      <th>year_quarter</th>\n",
       "    </tr>\n",
       "  </thead>\n",
       "  <tbody>\n",
       "    <tr>\n",
       "      <th>0</th>\n",
       "      <td>1/28/2013</td>\n",
       "      <td>Operator Error</td>\n",
       "      <td>well</td>\n",
       "      <td>WAINWRIGHT</td>\n",
       "      <td>oil</td>\n",
       "      <td>1</td>\n",
       "      <td>1</td>\n",
       "    </tr>\n",
       "    <tr>\n",
       "      <th>1</th>\n",
       "      <td>11/10/2012</td>\n",
       "      <td>Equipment Failure</td>\n",
       "      <td>battery</td>\n",
       "      <td>BONNYVILLE</td>\n",
       "      <td>water</td>\n",
       "      <td>2</td>\n",
       "      <td>4</td>\n",
       "    </tr>\n",
       "    <tr>\n",
       "      <th>2</th>\n",
       "      <td>3/29/2007</td>\n",
       "      <td>Equipment Failure</td>\n",
       "      <td>pipeline</td>\n",
       "      <td>MEDICINE HAT</td>\n",
       "      <td>gas</td>\n",
       "      <td>2</td>\n",
       "      <td>1</td>\n",
       "    </tr>\n",
       "    <tr>\n",
       "      <th>3</th>\n",
       "      <td>3/21/2008</td>\n",
       "      <td>Equipment Failure</td>\n",
       "      <td>pipeline</td>\n",
       "      <td>MEDICINE HAT</td>\n",
       "      <td>gas</td>\n",
       "      <td>2</td>\n",
       "      <td>1</td>\n",
       "    </tr>\n",
       "    <tr>\n",
       "      <th>4</th>\n",
       "      <td>4/3/2008</td>\n",
       "      <td>Equipment Failure</td>\n",
       "      <td>pipeline</td>\n",
       "      <td>MEDICINE HAT</td>\n",
       "      <td>gas</td>\n",
       "      <td>2</td>\n",
       "      <td>2</td>\n",
       "    </tr>\n",
       "    <tr>\n",
       "      <th>5</th>\n",
       "      <td>11/2/2005</td>\n",
       "      <td>Operator Error</td>\n",
       "      <td>pipeline</td>\n",
       "      <td>MEDICINE HAT</td>\n",
       "      <td>oil</td>\n",
       "      <td>1</td>\n",
       "      <td>4</td>\n",
       "    </tr>\n",
       "  </tbody>\n",
       "</table>\n",
       "</div>"
      ],
      "text/plain": [
       "         date              cause    source      location substance  volume  \\\n",
       "0   1/28/2013     Operator Error      well    WAINWRIGHT       oil       1   \n",
       "1  11/10/2012  Equipment Failure   battery    BONNYVILLE     water       2   \n",
       "2   3/29/2007  Equipment Failure  pipeline  MEDICINE HAT       gas       2   \n",
       "3   3/21/2008  Equipment Failure  pipeline  MEDICINE HAT       gas       2   \n",
       "4    4/3/2008  Equipment Failure  pipeline  MEDICINE HAT       gas       2   \n",
       "5   11/2/2005     Operator Error  pipeline  MEDICINE HAT       oil       1   \n",
       "\n",
       "   year_quarter  \n",
       "0             1  \n",
       "1             4  \n",
       "2             1  \n",
       "3             1  \n",
       "4             2  \n",
       "5             4  "
      ]
     },
     "execution_count": 200,
     "metadata": {},
     "output_type": "execute_result"
    }
   ],
   "source": [
    "oil_spills=pd.read_csv('../data/clean_data.csv').iloc[:, 1:]\n",
    "oil_spills.head(6)"
   ]
  },
  {
   "cell_type": "markdown",
   "metadata": {},
   "source": [
    "## Updating categorical data to numerical values"
   ]
  },
  {
   "cell_type": "markdown",
   "metadata": {},
   "source": [
    "### 1. Record the mapping from categorical data to numerical values"
   ]
  },
  {
   "cell_type": "code",
   "execution_count": 201,
   "metadata": {},
   "outputs": [],
   "source": [
    "\n",
    "from sklearn.preprocessing import LabelEncoder\n",
    "number = LabelEncoder()\n",
    "categories = ['cause','source','location','substance']\n",
    "for c in categories:\n",
    "    number.fit(oil_spills[c])\n",
    "    mapping = dict(zip(number.transform(number.classes_),number.classes_))\n",
    "    mdf=pd.DataFrame.from_dict(mapping, orient='index',columns=[c])\n",
    "    mdf.to_csv(output_file_path + c + \".csv\")"
   ]
  },
  {
   "cell_type": "markdown",
   "metadata": {},
   "source": [
    "### 2. update correspondingly in the data frame"
   ]
  },
  {
   "cell_type": "code",
   "execution_count": 202,
   "metadata": {
    "scrolled": true
   },
   "outputs": [
    {
     "data": {
      "text/html": [
       "<div>\n",
       "<style scoped>\n",
       "    .dataframe tbody tr th:only-of-type {\n",
       "        vertical-align: middle;\n",
       "    }\n",
       "\n",
       "    .dataframe tbody tr th {\n",
       "        vertical-align: top;\n",
       "    }\n",
       "\n",
       "    .dataframe thead th {\n",
       "        text-align: right;\n",
       "    }\n",
       "</style>\n",
       "<table border=\"1\" class=\"dataframe\">\n",
       "  <thead>\n",
       "    <tr style=\"text-align: right;\">\n",
       "      <th></th>\n",
       "      <th>date</th>\n",
       "      <th>cause</th>\n",
       "      <th>source</th>\n",
       "      <th>location</th>\n",
       "      <th>substance</th>\n",
       "      <th>volume</th>\n",
       "      <th>year_quarter</th>\n",
       "    </tr>\n",
       "  </thead>\n",
       "  <tbody>\n",
       "    <tr>\n",
       "      <th>0</th>\n",
       "      <td>1/28/2013</td>\n",
       "      <td>1</td>\n",
       "      <td>2</td>\n",
       "      <td>8</td>\n",
       "      <td>1</td>\n",
       "      <td>1</td>\n",
       "      <td>1</td>\n",
       "    </tr>\n",
       "    <tr>\n",
       "      <th>1</th>\n",
       "      <td>11/10/2012</td>\n",
       "      <td>0</td>\n",
       "      <td>0</td>\n",
       "      <td>0</td>\n",
       "      <td>2</td>\n",
       "      <td>2</td>\n",
       "      <td>4</td>\n",
       "    </tr>\n",
       "    <tr>\n",
       "      <th>2</th>\n",
       "      <td>3/29/2007</td>\n",
       "      <td>0</td>\n",
       "      <td>1</td>\n",
       "      <td>4</td>\n",
       "      <td>0</td>\n",
       "      <td>2</td>\n",
       "      <td>1</td>\n",
       "    </tr>\n",
       "    <tr>\n",
       "      <th>3</th>\n",
       "      <td>3/21/2008</td>\n",
       "      <td>0</td>\n",
       "      <td>1</td>\n",
       "      <td>4</td>\n",
       "      <td>0</td>\n",
       "      <td>2</td>\n",
       "      <td>1</td>\n",
       "    </tr>\n",
       "    <tr>\n",
       "      <th>4</th>\n",
       "      <td>4/3/2008</td>\n",
       "      <td>0</td>\n",
       "      <td>1</td>\n",
       "      <td>4</td>\n",
       "      <td>0</td>\n",
       "      <td>2</td>\n",
       "      <td>2</td>\n",
       "    </tr>\n",
       "    <tr>\n",
       "      <th>5</th>\n",
       "      <td>11/2/2005</td>\n",
       "      <td>1</td>\n",
       "      <td>1</td>\n",
       "      <td>4</td>\n",
       "      <td>1</td>\n",
       "      <td>1</td>\n",
       "      <td>4</td>\n",
       "    </tr>\n",
       "  </tbody>\n",
       "</table>\n",
       "</div>"
      ],
      "text/plain": [
       "         date  cause  source  location  substance  volume  year_quarter\n",
       "0   1/28/2013      1       2         8          1       1             1\n",
       "1  11/10/2012      0       0         0          2       2             4\n",
       "2   3/29/2007      0       1         4          0       2             1\n",
       "3   3/21/2008      0       1         4          0       2             1\n",
       "4    4/3/2008      0       1         4          0       2             2\n",
       "5   11/2/2005      1       1         4          1       1             4"
      ]
     },
     "execution_count": 202,
     "metadata": {},
     "output_type": "execute_result"
    }
   ],
   "source": [
    "oil_spills['cause']=number.fit_transform(oil_spills['cause'].astype('str'))\n",
    "oil_spills['source']=number.fit_transform(oil_spills['source'].astype('str'))\n",
    "oil_spills['location']=number.fit_transform(oil_spills['location'].astype('str'))\n",
    "oil_spills['substance']=number.fit_transform(oil_spills['substance'].astype('str'))\n",
    "oil_spills.head(6)"
   ]
  },
  {
   "cell_type": "markdown",
   "metadata": {},
   "source": [
    "## Fit a decision tree model using sklearn "
   ]
  },
  {
   "cell_type": "code",
   "execution_count": 203,
   "metadata": {},
   "outputs": [],
   "source": [
    "# Create X (i.e., features) and y (i.e., target)\n",
    "X = oil_spills.iloc[:,2:]\n",
    "y = oil_spills.iloc[:,1]\n",
    "\n",
    "#Split the training data (X,y) into two sets: train set and test set\n",
    "from sklearn.model_selection import train_test_split\n",
    "from sklearn.tree import DecisionTreeClassifier\n",
    "from sklearn.model_selection import cross_val_score\n",
    "\n",
    "X_train, X_test, y_train, y_test = train_test_split(X, y, test_size=0.2, random_state=9)"
   ]
  },
  {
   "cell_type": "code",
   "execution_count": 204,
   "metadata": {
    "scrolled": false
   },
   "outputs": [
    {
     "name": "stdout",
     "output_type": "stream",
     "text": [
      "Optimal Training Accuracy:  0.8323843799819587\n",
      "Optimal Training Accuracy has max depth of:  4\n"
     ]
    }
   ],
   "source": [
    "# find the optimal hyperparameter by comparing the scores from cross validation.\n",
    "\n",
    "depth_range = range(1,10)\n",
    "train_cv = []\n",
    "test_cv = []\n",
    "\n",
    "for d in depth_range:\n",
    "    model = DecisionTreeClassifier(max_depth=d)\n",
    "    train_cv.append(np.mean(cross_val_score(model, X_train, y_train, cv=10)))\n",
    "    test_cv.append(np.mean(cross_val_score(model, X_test, y_test, cv=10)))\n",
    "\n",
    "max_cv = max(train_cv)\n",
    "opt_d = train_cv.index(max_cv)\n",
    "print(\"Optimal Training Accuracy: \", max_cv)\n",
    "print(\"Optimal Training Accuracy has max depth of: \",opt_d)\n",
    "plt.plot(depth_range, train_cv, label=\"train\")\n",
    "plt.plot(depth_range, test_cv, label=\"test\")\n",
    "plt.xlabel(\"depth values\")\n",
    "plt.ylabel(\"10-fold cross validation scores\")\n",
    "plt.legend()\n",
    "plt.savefig(\"depth_compare.png\")\n",
    "plt.close()"
   ]
  },
  {
   "cell_type": "code",
   "execution_count": 205,
   "metadata": {
    "scrolled": true
   },
   "outputs": [
    {
     "data": {
      "text/plain": [
       "DecisionTreeClassifier(class_weight=None, criterion='gini', max_depth=4,\n",
       "            max_features=None, max_leaf_nodes=None,\n",
       "            min_impurity_decrease=0.0, min_impurity_split=None,\n",
       "            min_samples_leaf=1, min_samples_split=2,\n",
       "            min_weight_fraction_leaf=0.0, presort=False, random_state=None,\n",
       "            splitter='best')"
      ]
     },
     "execution_count": 205,
     "metadata": {},
     "output_type": "execute_result"
    }
   ],
   "source": [
    "# Set train model to have max_depth of 4\n",
    "model = DecisionTreeClassifier(max_depth=4)\n",
    "model.fit(X_train,y_train)"
   ]
  },
  {
   "cell_type": "markdown",
   "metadata": {},
   "source": [
    "## Export data to csv"
   ]
  },
  {
   "cell_type": "markdown",
   "metadata": {},
   "source": [
    "### 1. Export mapping dictionaries to csv"
   ]
  },
  {
   "cell_type": "code",
   "execution_count": 192,
   "metadata": {
    "scrolled": true
   },
   "outputs": [],
   "source": [
    "#pd.DataFrame([cause_num_name_mapping, source_num_name_mapping, loc_num_name_mapping, sub_num_name_mapping])\n",
    "cause=pd.DataFrame.from_dict(cause_num_name_mapping, orient='index',columns=['cause'])\n",
    "source=pd.DataFrame.from_dict(source_num_name_mapping, orient='index',columns=['source'])"
   ]
  },
  {
   "cell_type": "markdown",
   "metadata": {},
   "source": [
    "### 2. Importance of features"
   ]
  },
  {
   "cell_type": "code",
   "execution_count": 206,
   "metadata": {
    "scrolled": true
   },
   "outputs": [],
   "source": [
    "feat_importance = model.tree_.compute_feature_importances(normalize=False)\n",
    "feature_df = pd.DataFrame([fea_importance], columns = feature_cols)\n",
    "feature_df.to_csv(output_file_path + \"feature_compare.csv\")"
   ]
  },
  {
   "cell_type": "code",
   "execution_count": 207,
   "metadata": {},
   "outputs": [
    {
     "data": {
      "text/html": [
       "<div>\n",
       "<style scoped>\n",
       "    .dataframe tbody tr th:only-of-type {\n",
       "        vertical-align: middle;\n",
       "    }\n",
       "\n",
       "    .dataframe tbody tr th {\n",
       "        vertical-align: top;\n",
       "    }\n",
       "\n",
       "    .dataframe thead th {\n",
       "        text-align: right;\n",
       "    }\n",
       "</style>\n",
       "<table border=\"1\" class=\"dataframe\">\n",
       "  <thead>\n",
       "    <tr style=\"text-align: right;\">\n",
       "      <th></th>\n",
       "      <th>source</th>\n",
       "      <th>location</th>\n",
       "      <th>substance</th>\n",
       "      <th>volume</th>\n",
       "      <th>year_quarter</th>\n",
       "    </tr>\n",
       "  </thead>\n",
       "  <tbody>\n",
       "    <tr>\n",
       "      <th>0</th>\n",
       "      <td>0.032832</td>\n",
       "      <td>0.004671</td>\n",
       "      <td>0.000727</td>\n",
       "      <td>0.00248</td>\n",
       "      <td>0.000223</td>\n",
       "    </tr>\n",
       "  </tbody>\n",
       "</table>\n",
       "</div>"
      ],
      "text/plain": [
       "     source  location  substance   volume  year_quarter\n",
       "0  0.032832  0.004671   0.000727  0.00248      0.000223"
      ]
     },
     "execution_count": 207,
     "metadata": {},
     "output_type": "execute_result"
    }
   ],
   "source": [
    "feature_df"
   ]
  },
  {
   "cell_type": "code",
   "execution_count": 208,
   "metadata": {},
   "outputs": [
    {
     "data": {
      "text/plain": [
       "['source', 'location', 'substance', 'volume', 'year_quarter']"
      ]
     },
     "execution_count": 208,
     "metadata": {},
     "output_type": "execute_result"
    }
   ],
   "source": [
    "feature_cols"
   ]
  },
  {
   "cell_type": "markdown",
   "metadata": {},
   "source": [
    "### 3. Export model accuracies to csv"
   ]
  },
  {
   "cell_type": "code",
   "execution_count": 209,
   "metadata": {},
   "outputs": [],
   "source": [
    "cv_score = np.mean(cross_val_score(model, X_train, y_train, cv=10))"
   ]
  },
  {
   "cell_type": "code",
   "execution_count": 210,
   "metadata": {},
   "outputs": [
    {
     "name": "stdout",
     "output_type": "stream",
     "text": [
      "We choose the max_depth of 4 , and the testing score is  0.831016859648912  by cross validation\n"
     ]
    }
   ],
   "source": [
    "print(\"We choose the max_depth of\", opt_d, \", and the testing score is \", cv_score, \" by cross validation\")"
   ]
  },
  {
   "cell_type": "markdown",
   "metadata": {},
   "source": [
    "### 4. Export the model"
   ]
  },
  {
   "cell_type": "code",
   "execution_count": 211,
   "metadata": {},
   "outputs": [],
   "source": [
    "import pickle"
   ]
  },
  {
   "cell_type": "code",
   "execution_count": 212,
   "metadata": {},
   "outputs": [],
   "source": [
    "output_file_path='../results/'\n",
    "filename = output_file_path + 'finalized_model.sav'\n",
    "pickle.dump(model, open(filename, 'wb'))"
   ]
  },
  {
   "cell_type": "code",
   "execution_count": null,
   "metadata": {},
   "outputs": [],
   "source": []
  }
 ],
 "metadata": {
  "kernelspec": {
   "display_name": "Python 3",
   "language": "python",
   "name": "python3"
  },
  "language_info": {
   "codemirror_mode": {
    "name": "ipython",
    "version": 3
   },
   "file_extension": ".py",
   "mimetype": "text/x-python",
   "name": "python",
   "nbconvert_exporter": "python",
   "pygments_lexer": "ipython3",
   "version": "3.6.5"
  }
 },
 "nbformat": 4,
 "nbformat_minor": 2
}
