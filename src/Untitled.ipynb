{
 "cells": [
  {
   "cell_type": "code",
   "execution_count": 29,
   "metadata": {},
   "outputs": [],
   "source": [
    "import numpy as np\n",
    "import pandas as pd\n",
    "import seaborn as sns\n",
    "import matplotlib.pyplot as plt\n",
    "import argparse\n",
    "import pickle\n",
    "\n",
    "from sklearn import tree\n",
    "from sklearn import preprocessing\n",
    "from sklearn.model_selection import train_test_split\n",
    "from sklearn.tree import DecisionTreeClassifier\n",
    "from sklearn.model_selection import cross_val_score\n",
    "from sklearn.preprocessing import LabelEncoder\n",
    "state = 9\n",
    "\n",
    "    # Get command line arguments\n",
    "input_file_path = \"../data/clean_data.csv\"\n",
    "output_file_path = \"../results/\"\n",
    "\n",
    "    # 1. Data Importing\n",
    "oil_spills = pd.read_csv(input_file_path).iloc[:, 1:]\n",
    "\n",
    "\n",
    "    # 2. Categorical data mapping\n",
    "    # 2.1 Record the mapping from categorical data to numerical values in dataframes, then export to CSV\n",
    "number = LabelEncoder()\n",
    "categories = ['cause','source','location','substance']\n",
    "for c in categories:\n",
    "    number.fit(oil_spills[c])\n",
    "    mapping = dict(zip(number.transform(number.classes_),number.classes_))\n",
    "    mdf=pd.DataFrame.from_dict(mapping, orient='index',columns=[c])\n",
    "    mdf.to_csv(output_file_path + c + \".csv\")"
   ]
  },
  {
   "cell_type": "code",
   "execution_count": 30,
   "metadata": {},
   "outputs": [],
   "source": [
    "oil_spills['cause']=number.fit_transform(oil_spills['cause'].astype('str'))\n",
    "oil_spills['source']=number.fit_transform(oil_spills['source'].astype('str'))\n",
    "oil_spills['location']=number.fit_transform(oil_spills['location'].astype('str'))\n",
    "oil_spills['substance']=number.fit_transform(oil_spills['substance'].astype('str'))"
   ]
  },
  {
   "cell_type": "code",
   "execution_count": 31,
   "metadata": {},
   "outputs": [],
   "source": [
    "X = oil_spills.iloc[:,2:]\n",
    "y = oil_spills.iloc[:,1]"
   ]
  },
  {
   "cell_type": "code",
   "execution_count": 32,
   "metadata": {},
   "outputs": [
    {
     "data": {
      "text/html": [
       "<div>\n",
       "<style scoped>\n",
       "    .dataframe tbody tr th:only-of-type {\n",
       "        vertical-align: middle;\n",
       "    }\n",
       "\n",
       "    .dataframe tbody tr th {\n",
       "        vertical-align: top;\n",
       "    }\n",
       "\n",
       "    .dataframe thead th {\n",
       "        text-align: right;\n",
       "    }\n",
       "</style>\n",
       "<table border=\"1\" class=\"dataframe\">\n",
       "  <thead>\n",
       "    <tr style=\"text-align: right;\">\n",
       "      <th></th>\n",
       "      <th>date</th>\n",
       "      <th>cause</th>\n",
       "      <th>source</th>\n",
       "      <th>location</th>\n",
       "      <th>substance</th>\n",
       "      <th>volume</th>\n",
       "      <th>year_quarter</th>\n",
       "    </tr>\n",
       "  </thead>\n",
       "  <tbody>\n",
       "    <tr>\n",
       "      <th>0</th>\n",
       "      <td>1/28/2013</td>\n",
       "      <td>1</td>\n",
       "      <td>2</td>\n",
       "      <td>8</td>\n",
       "      <td>1</td>\n",
       "      <td>1</td>\n",
       "      <td>1</td>\n",
       "    </tr>\n",
       "    <tr>\n",
       "      <th>1</th>\n",
       "      <td>11/10/2012</td>\n",
       "      <td>0</td>\n",
       "      <td>0</td>\n",
       "      <td>0</td>\n",
       "      <td>2</td>\n",
       "      <td>2</td>\n",
       "      <td>4</td>\n",
       "    </tr>\n",
       "    <tr>\n",
       "      <th>2</th>\n",
       "      <td>3/29/2007</td>\n",
       "      <td>0</td>\n",
       "      <td>1</td>\n",
       "      <td>4</td>\n",
       "      <td>0</td>\n",
       "      <td>2</td>\n",
       "      <td>1</td>\n",
       "    </tr>\n",
       "    <tr>\n",
       "      <th>3</th>\n",
       "      <td>3/21/2008</td>\n",
       "      <td>0</td>\n",
       "      <td>1</td>\n",
       "      <td>4</td>\n",
       "      <td>0</td>\n",
       "      <td>2</td>\n",
       "      <td>1</td>\n",
       "    </tr>\n",
       "    <tr>\n",
       "      <th>4</th>\n",
       "      <td>4/3/2008</td>\n",
       "      <td>0</td>\n",
       "      <td>1</td>\n",
       "      <td>4</td>\n",
       "      <td>0</td>\n",
       "      <td>2</td>\n",
       "      <td>2</td>\n",
       "    </tr>\n",
       "  </tbody>\n",
       "</table>\n",
       "</div>"
      ],
      "text/plain": [
       "         date  cause  source  location  substance  volume  year_quarter\n",
       "0   1/28/2013      1       2         8          1       1             1\n",
       "1  11/10/2012      0       0         0          2       2             4\n",
       "2   3/29/2007      0       1         4          0       2             1\n",
       "3   3/21/2008      0       1         4          0       2             1\n",
       "4    4/3/2008      0       1         4          0       2             2"
      ]
     },
     "execution_count": 32,
     "metadata": {},
     "output_type": "execute_result"
    }
   ],
   "source": [
    "\n",
    "oil_spills.head()"
   ]
  },
  {
   "cell_type": "code",
   "execution_count": 33,
   "metadata": {},
   "outputs": [],
   "source": [
    "X_train, X_test, y_train, y_test = train_test_split(X, y, test_size=0.2, random_state=state)\n",
    "feature_cols=X.columns.values.tolist()"
   ]
  },
  {
   "cell_type": "code",
   "execution_count": 34,
   "metadata": {},
   "outputs": [],
   "source": [
    "depth_range = range(1,7)\n",
    "train_cv = []\n",
    "test_cv = []\n",
    "for d in depth_range:\n",
    "    model = DecisionTreeClassifier(max_depth=d)\n",
    "    train_cv.append(np.mean(cross_val_score(model, X_train, y_train, cv=10)))\n",
    "    test_cv.append(np.mean(cross_val_score(model, X_test, y_test, cv=10)))\n",
    "max_cv = max(train_cv)\n",
    "opt_d = train_cv.index(max_cv)"
   ]
  },
  {
   "cell_type": "code",
   "execution_count": 35,
   "metadata": {},
   "outputs": [],
   "source": [
    "    plt.plot(depth_range, train_cv, label=\"train\")\n",
    "    plt.plot(depth_range, test_cv, label=\"test\")\n",
    "    plt.xlabel(\"depth values\")\n",
    "    plt.ylabel(\"10-fold cross validation scores\")\n",
    "    plt.legend()\n",
    "    plt.savefig(output_file_path+\"depth_compare.png\")\n",
    "    plt.close()"
   ]
  },
  {
   "cell_type": "code",
   "execution_count": 36,
   "metadata": {},
   "outputs": [
    {
     "name": "stdout",
     "output_type": "stream",
     "text": [
      "We choose the max_depth of 4 , and the testing score is  0.831016859648912  by cross validation\n"
     ]
    }
   ],
   "source": [
    "    # 3.5 Set train model with the optimal max_depth\n",
    "    model = DecisionTreeClassifier(max_depth=opt_d)\n",
    "    model.fit(X_train,y_train)\n",
    "    cv_score = np.mean(cross_val_score(model, X_train, y_train, cv=10))\n",
    "    print(\"We choose the max_depth of\", opt_d, \", and testing score is \", cv_score, \" by cross validation\")\n",
    "\n",
    "\n",
    "    # 4 Exporting\n",
    "    # 4.1 Export the model to file\n",
    "    filename = output_file_path + 'finalized_model.sav'\n",
    "    pickle.dump(model, open(filename, 'wb'))\n",
    "\n",
    "    # 4.2 Find the most important features, export the features comparison to CSV\n",
    "    fea_importance = model.tree_.compute_feature_importances(normalize=False)\n",
    "    feature_df = pd.DataFrame([fea_importance], columns = feature_cols)\n",
    "    feature_df.to_csv(output_file_path + \"feature_compare.csv\")"
   ]
  },
  {
   "cell_type": "code",
   "execution_count": 52,
   "metadata": {},
   "outputs": [],
   "source": [
    "d = {\"The CV score for the model is\": [cv_score]}\n",
    "df = pd.DataFrame(d)\n",
    "df.to_csv(output_file_path + \"model_score.csv\")"
   ]
  },
  {
   "cell_type": "code",
   "execution_count": null,
   "metadata": {},
   "outputs": [],
   "source": []
  }
 ],
 "metadata": {
  "kernelspec": {
   "display_name": "Python 3",
   "language": "python",
   "name": "python3"
  },
  "language_info": {
   "codemirror_mode": {
    "name": "ipython",
    "version": 3
   },
   "file_extension": ".py",
   "mimetype": "text/x-python",
   "name": "python",
   "nbconvert_exporter": "python",
   "pygments_lexer": "ipython3",
   "version": "3.6.5"
  }
 },
 "nbformat": 4,
 "nbformat_minor": 2
}
